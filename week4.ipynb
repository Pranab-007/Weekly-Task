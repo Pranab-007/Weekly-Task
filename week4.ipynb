{
 "cells": [
  {
   "cell_type": "code",
   "execution_count": 1,
   "metadata": {},
   "outputs": [
    {
     "name": "stdout",
     "output_type": "stream",
     "text": [
      "True\n"
     ]
    }
   ],
   "source": [
    "#Q1\n",
    "def tof(x):\n",
    "    if x in range(0,101):\n",
    "        return True\n",
    "    else:\n",
    "        return False\n",
    "    \n",
    "x = float(input(\"Enter a number: \"))\n",
    "ans = tof(x)\n",
    "print(ans)"
   ]
  },
  {
   "cell_type": "code",
   "execution_count": 2,
   "metadata": {},
   "outputs": [
    {
     "name": "stdout",
     "output_type": "stream",
     "text": [
      "Uppercase = 0\n",
      "Lowercase = 0\n"
     ]
    }
   ],
   "source": [
    "#Q2\n",
    "def ul(word):\n",
    "    low = 0\n",
    "    up = 0\n",
    "    for i in word:\n",
    "        z = i\n",
    "        if i.lower() == z:\n",
    "            low += 1\n",
    "        else:\n",
    "            up += 1\n",
    "    return low, up\n",
    "\n",
    "new = input(\"Enter a word: \")\n",
    "low, up = ul(new)\n",
    "\n",
    "print(f\"Uppercase = {up}\")\n",
    "print(f\"Lowercase = {low}\")\n"
   ]
  },
  {
   "cell_type": "code",
   "execution_count": 3,
   "metadata": {},
   "outputs": [
    {
     "name": "stdout",
     "output_type": "stream",
     "text": [
      "Hello, \n"
     ]
    }
   ],
   "source": [
    "#Q3\n",
    "def greet(word):\n",
    "    word = word.title()\n",
    "    return word\n",
    "\n",
    "name = input(\"What's your name? \")\n",
    "greeting = greet(name)\n",
    "\n",
    "print(f\"Hello, {greeting}\")\n"
   ]
  },
  {
   "cell_type": "code",
   "execution_count": 4,
   "metadata": {},
   "outputs": [
    {
     "name": "stdout",
     "output_type": "stream",
     "text": [
      "Enter 2 or more letters\n"
     ]
    }
   ],
   "source": [
    "#Q4\n",
    "def removal(word):\n",
    "    new_word = []\n",
    "    get_new = \"\"\n",
    "    \n",
    "    if len(word) == 0 or len(word) == 1:\n",
    "        print(\"Enter 2 or more letters\")\n",
    "    \n",
    "    else:\n",
    "        for i in word:\n",
    "            new_word += i\n",
    "            \n",
    "        nolast = new_word[:-1]\n",
    "        \n",
    "        for i in nolast:\n",
    "            get_new += i\n",
    "            \n",
    "        print(get_new)\n",
    "\n",
    "inp = input(\"Enter a string: \")\n",
    "word = removal(inp)\n"
   ]
  },
  {
   "cell_type": "code",
   "execution_count": 5,
   "metadata": {},
   "outputs": [
    {
     "ename": "ValueError",
     "evalue": "invalid literal for int() with base 10: ''",
     "output_type": "error",
     "traceback": [
      "\u001b[1;31m---------------------------------------------------------------------------\u001b[0m",
      "\u001b[1;31mValueError\u001b[0m                                Traceback (most recent call last)",
      "\u001b[1;32m~\\AppData\\Local\\Temp\\ipykernel_19496\\3665282035.py\u001b[0m in \u001b[0;36m<module>\u001b[1;34m\u001b[0m\n\u001b[0;32m      8\u001b[0m     \u001b[1;32mreturn\u001b[0m \u001b[0mcen\u001b[0m\u001b[1;33m\u001b[0m\u001b[1;33m\u001b[0m\u001b[0m\n\u001b[0;32m      9\u001b[0m \u001b[1;33m\u001b[0m\u001b[0m\n\u001b[1;32m---> 10\u001b[1;33m x = int(input('''1) Celsius to Fahrenheit\n\u001b[0m\u001b[0;32m     11\u001b[0m           2) Fahrenheit to Celsius\n\u001b[0;32m     12\u001b[0m           '''))\n",
      "\u001b[1;31mValueError\u001b[0m: invalid literal for int() with base 10: ''"
     ]
    }
   ],
   "source": [
    "#Q5\n",
    "def cen_to_fah(temp):\n",
    "    fah = temp * (9/5) + 32\n",
    "    return fah\n",
    "\n",
    "def fah_to_cen(temp):\n",
    "    cen = (temp - 32) * (5/9)\n",
    "    return cen\n",
    "\n",
    "x = int(input('''1) Celsius to Fahrenheit\n",
    "          2) Fahrenheit to Celsius\n",
    "          '''))\n",
    "\n",
    "if x == 1:\n",
    "    y = float(input(\"Enter temperature to convert: \"))\n",
    "    z = cen_to_fah(y)\n",
    "    print(f\"{y}C = {z}F\")\n",
    "    \n",
    "elif x == 2:\n",
    "    y = float(input(\"Enter temperature to convert: \"))\n",
    "    z = fah_to_cen(y)\n",
    "    print(f\"{y}F = {z}C\")\n",
    "    \n",
    "else:\n",
    "    print(\"Enter valid option.\")\n",
    "    "
   ]
  },
  {
   "cell_type": "code",
   "execution_count": null,
   "metadata": {},
   "outputs": [],
   "source": [
    "#Q6\n",
    "temp = input(\"Enter temperature in celsius (eg: 30C): \")\n",
    "x = temp[-1]\n",
    "x = x.lower()\n",
    "y = temp[:-1]\n",
    "try:\n",
    "    y = float(y)\n",
    "    if (x == \"c\"):\n",
    "        fah = y * (9/5) - 32\n",
    "        print(f\"{y}C = {fah}F\")\n",
    "    else:\n",
    "        print(\"Invalid unit\")\n",
    "    \n",
    "except:\n",
    "    print(\"Enter valid number then unit\")\n"
   ]
  },
  {
   "cell_type": "code",
   "execution_count": null,
   "metadata": {},
   "outputs": [],
   "source": [
    "#Q7\n",
    "from statistics import mean\n",
    "\n",
    "def maxi(num):\n",
    "    return max(num)\n",
    "\n",
    "def mini(num):\n",
    "    return min(num)\n",
    "\n",
    "def means(num):\n",
    "    return mean(num)\n",
    "\n",
    "vals = []\n",
    "for i in range(6):\n",
    "    value = float(input(\"Enter temperature for average: \"))\n",
    "    vals.append(value)\n",
    "\n",
    "print(maxi(vals))\n",
    "print(mini(vals))\n",
    "print(mean(vals))"
   ]
  },
  {
   "cell_type": "code",
   "execution_count": null,
   "metadata": {},
   "outputs": [],
   "source": [
    "#Q8\n",
    "from statistics import mean\n",
    "\n",
    "def maxi(num):\n",
    "    return max(num)\n",
    "\n",
    "def mini(num):\n",
    "    return min(num)\n",
    "\n",
    "def means(num):\n",
    "    return mean(num)\n",
    "\n",
    "vals = []\n",
    "while True:\n",
    "    try:\n",
    "        value = float(input(\"Enter a number: \"))\n",
    "    except ValueError:\n",
    "        break\n",
    "\n",
    "    vals.append(value)\n",
    "\n",
    "try: \n",
    "    print(maxi(vals))\n",
    "    print(mini(vals))\n",
    "    print(mean(vals))\n",
    "\n",
    "except ValueError:\n",
    "    print(\"Enter at least one value\")"
   ]
  }
 ],
 "metadata": {
  "kernelspec": {
   "display_name": "base",
   "language": "python",
   "name": "python3"
  },
  "language_info": {
   "codemirror_mode": {
    "name": "ipython",
    "version": 3
   },
   "file_extension": ".py",
   "mimetype": "text/x-python",
   "name": "python",
   "nbconvert_exporter": "python",
   "pygments_lexer": "ipython3",
   "version": "3.9.13"
  }
 },
 "nbformat": 4,
 "nbformat_minor": 2
}
