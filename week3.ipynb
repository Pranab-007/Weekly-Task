{
 "cells": [
  {
   "cell_type": "code",
   "execution_count": 1,
   "metadata": {},
   "outputs": [
    {
     "name": "stdout",
     "output_type": "stream",
     "text": [
      "Hello, stranger\n"
     ]
    }
   ],
   "source": [
    "#Q1\n",
    "name = input(\"Enter your name: \")\n",
    "name = name.title()\n",
    "\n",
    "if not name:\n",
    "    print(\"Hello, stranger\")\n",
    "else:\n",
    "    print(f\"Hello, {name}\")"
   ]
  },
  {
   "cell_type": "code",
   "execution_count": 2,
   "metadata": {},
   "outputs": [
    {
     "name": "stdout",
     "output_type": "stream",
     "text": [
      "Password Set\n"
     ]
    }
   ],
   "source": [
    "#Q2\n",
    "password = input(\"Enter password: \")\n",
    "wordpass = input(\"Re-enter password: \")\n",
    "\n",
    "if password == wordpass:\n",
    "    print(\"Password Set\")\n",
    "else:\n",
    "    print(\"Passwords do not match.\")"
   ]
  },
  {
   "cell_type": "code",
   "execution_count": 3,
   "metadata": {},
   "outputs": [
    {
     "name": "stdout",
     "output_type": "stream",
     "text": [
      "Password should be between 8 and 12 characters\n"
     ]
    }
   ],
   "source": [
    "#Q3\n",
    "password = input(\"Enter password: \")\n",
    "\n",
    "if len(password) >= 8 and len(password) <= 12:\n",
    "    wordpass = input(\"Re-enter password: \")\n",
    "\n",
    "    if password == wordpass:\n",
    "        print(\"Password Set\")\n",
    "    else:\n",
    "        print(\"Passwords do not match.\")\n",
    "        \n",
    "else:\n",
    "    print(\"Password should be between 8 and 12 characters\")"
   ]
  },
  {
   "cell_type": "code",
   "execution_count": 4,
   "metadata": {},
   "outputs": [
    {
     "name": "stdout",
     "output_type": "stream",
     "text": [
      "Password should be between 8 and 12 characters\n",
      "Password should not be ['password', 'letmein', 'sesame', 'hello', 'justinbieber']\n"
     ]
    }
   ],
   "source": [
    "#Q4\n",
    "notword = ['password', 'letmein', 'sesame', 'hello', 'justinbieber']\n",
    "password = input(\"Enter password: \")\n",
    "\n",
    "if len(password) >= 8 and len(password) <= 12 and password not in notword:\n",
    "    wordpass = input(\"Re-enter password: \")\n",
    "\n",
    "    if password == wordpass:\n",
    "        print(\"Password Set\")\n",
    "    else:\n",
    "        print(\"Passwords do not match.\")\n",
    "        \n",
    "else:\n",
    "    print(\"Password should be between 8 and 12 characters\")\n",
    "    print(f\"Password should not be {notword}\")"
   ]
  },
  {
   "cell_type": "code",
   "execution_count": 5,
   "metadata": {},
   "outputs": [
    {
     "name": "stdout",
     "output_type": "stream",
     "text": [
      "Password should be between 8 and 12 characters\n",
      "Password should not be ['password', 'letmein', 'sesame', 'hello', 'justinbieber']\n",
      "Password should be between 8 and 12 characters\n",
      "Password should not be ['password', 'letmein', 'sesame', 'hello', 'justinbieber']\n",
      "Password should be between 8 and 12 characters\n",
      "Password should not be ['password', 'letmein', 'sesame', 'hello', 'justinbieber']\n",
      "Password should be between 8 and 12 characters\n",
      "Password should not be ['password', 'letmein', 'sesame', 'hello', 'justinbieber']\n",
      "Password should be between 8 and 12 characters\n",
      "Password should not be ['password', 'letmein', 'sesame', 'hello', 'justinbieber']\n",
      "Password should be between 8 and 12 characters\n",
      "Password should not be ['password', 'letmein', 'sesame', 'hello', 'justinbieber']\n",
      "Password should be between 8 and 12 characters\n",
      "Password should not be ['password', 'letmein', 'sesame', 'hello', 'justinbieber']\n",
      "Password should be between 8 and 12 characters\n",
      "Password should not be ['password', 'letmein', 'sesame', 'hello', 'justinbieber']\n",
      "Password should be between 8 and 12 characters\n",
      "Password should not be ['password', 'letmein', 'sesame', 'hello', 'justinbieber']\n",
      "Password should be between 8 and 12 characters\n",
      "Password should not be ['password', 'letmein', 'sesame', 'hello', 'justinbieber']\n",
      "Password should be between 8 and 12 characters\n",
      "Password should not be ['password', 'letmein', 'sesame', 'hello', 'justinbieber']\n",
      "Password should be between 8 and 12 characters\n",
      "Password should not be ['password', 'letmein', 'sesame', 'hello', 'justinbieber']\n",
      "Password should be between 8 and 12 characters\n",
      "Password should not be ['password', 'letmein', 'sesame', 'hello', 'justinbieber']\n",
      "Password should be between 8 and 12 characters\n",
      "Password should not be ['password', 'letmein', 'sesame', 'hello', 'justinbieber']\n",
      "Password should be between 8 and 12 characters\n",
      "Password should not be ['password', 'letmein', 'sesame', 'hello', 'justinbieber']\n",
      "Password should be between 8 and 12 characters\n",
      "Password should not be ['password', 'letmein', 'sesame', 'hello', 'justinbieber']\n",
      "Password should be between 8 and 12 characters\n",
      "Password should not be ['password', 'letmein', 'sesame', 'hello', 'justinbieber']\n",
      "Password should be between 8 and 12 characters\n",
      "Password should not be ['password', 'letmein', 'sesame', 'hello', 'justinbieber']\n",
      "Password should be between 8 and 12 characters\n",
      "Password should not be ['password', 'letmein', 'sesame', 'hello', 'justinbieber']\n",
      "Password should be between 8 and 12 characters\n",
      "Password should not be ['password', 'letmein', 'sesame', 'hello', 'justinbieber']\n",
      "Password should be between 8 and 12 characters\n",
      "Password should not be ['password', 'letmein', 'sesame', 'hello', 'justinbieber']\n",
      "Password should be between 8 and 12 characters\n",
      "Password should not be ['password', 'letmein', 'sesame', 'hello', 'justinbieber']\n",
      "Password should be between 8 and 12 characters\n",
      "Password should not be ['password', 'letmein', 'sesame', 'hello', 'justinbieber']\n",
      "Password should be between 8 and 12 characters\n",
      "Password should not be ['password', 'letmein', 'sesame', 'hello', 'justinbieber']\n",
      "Password should be between 8 and 12 characters\n",
      "Password should not be ['password', 'letmein', 'sesame', 'hello', 'justinbieber']\n"
     ]
    }
   ],
   "source": [
    "#Q5\n",
    "notword = ['password', 'letmein', 'sesame', 'hello', 'justinbieber']\n",
    "\n",
    "while True:\n",
    "    password = input(\"Enter password: \")\n",
    "\n",
    "    if len(password) >= 8 and len(password) <= 12 and password not in notword:\n",
    "        wordpass = input(\"Re-enter password: \")\n",
    "\n",
    "        if password == wordpass:\n",
    "            print(\"Password Set\")\n",
    "            break\n",
    "        else:\n",
    "            print(\"Passwords do not match.\")\n",
    "            \n",
    "    else:\n",
    "        print(\"Password should be between 8 and 12 characters\")\n",
    "        print(f\"Password should not be {notword}\")"
   ]
  },
  {
   "cell_type": "code",
   "execution_count": 1,
   "metadata": {},
   "outputs": [
    {
     "name": "stdout",
     "output_type": "stream",
     "text": [
      "7 * 0 = 0\n",
      "7 * 1 = 7\n",
      "7 * 2 = 14\n",
      "7 * 3 = 21\n",
      "7 * 4 = 28\n",
      "7 * 5 = 35\n",
      "7 * 6 = 42\n",
      "7 * 7 = 49\n",
      "7 * 8 = 56\n",
      "7 * 9 = 63\n",
      "7 * 10 = 70\n",
      "7 * 11 = 77\n",
      "7 * 12 = 84\n"
     ]
    }
   ],
   "source": [
    "#Q6\n",
    "num = 7\n",
    "for i in range(13):\n",
    "    print(f\"{num} * {i} = {num*i}\")"
   ]
  },
  {
   "cell_type": "code",
   "execution_count": 2,
   "metadata": {},
   "outputs": [
    {
     "ename": "ValueError",
     "evalue": "could not convert string to float: ''",
     "output_type": "error",
     "traceback": [
      "\u001b[1;31m---------------------------------------------------------------------------\u001b[0m",
      "\u001b[1;31mValueError\u001b[0m                                Traceback (most recent call last)",
      "\u001b[1;32m~\\AppData\\Local\\Temp\\ipykernel_10120\\889378199.py\u001b[0m in \u001b[0;36m<module>\u001b[1;34m\u001b[0m\n\u001b[0;32m      1\u001b[0m \u001b[1;31m#Q7\u001b[0m\u001b[1;33m\u001b[0m\u001b[1;33m\u001b[0m\u001b[0m\n\u001b[1;32m----> 2\u001b[1;33m \u001b[0mnum\u001b[0m \u001b[1;33m=\u001b[0m \u001b[0mfloat\u001b[0m\u001b[1;33m(\u001b[0m\u001b[0minput\u001b[0m\u001b[1;33m(\u001b[0m\u001b[1;34m\"Enter number to get table: \"\u001b[0m\u001b[1;33m)\u001b[0m\u001b[1;33m)\u001b[0m\u001b[1;33m\u001b[0m\u001b[1;33m\u001b[0m\u001b[0m\n\u001b[0m\u001b[0;32m      3\u001b[0m \u001b[1;32mfor\u001b[0m \u001b[0mi\u001b[0m \u001b[1;32min\u001b[0m \u001b[0mrange\u001b[0m\u001b[1;33m(\u001b[0m\u001b[1;36m13\u001b[0m\u001b[1;33m)\u001b[0m\u001b[1;33m:\u001b[0m\u001b[1;33m\u001b[0m\u001b[1;33m\u001b[0m\u001b[0m\n\u001b[0;32m      4\u001b[0m     \u001b[0mprint\u001b[0m\u001b[1;33m(\u001b[0m\u001b[1;34mf\"{num} * {i} = {num*i}\"\u001b[0m\u001b[1;33m)\u001b[0m\u001b[1;33m\u001b[0m\u001b[1;33m\u001b[0m\u001b[0m\n",
      "\u001b[1;31mValueError\u001b[0m: could not convert string to float: ''"
     ]
    }
   ],
   "source": [
    "#Q7\n",
    "num = float(input(\"Enter number to get table: \"))\n",
    "for i in range(13):\n",
    "    print(f\"{num} * {i} = {num*i}\")"
   ]
  },
  {
   "cell_type": "code",
   "execution_count": 4,
   "metadata": {},
   "outputs": [
    {
     "ename": "ValueError",
     "evalue": "could not convert string to float: ''",
     "output_type": "error",
     "traceback": [
      "\u001b[1;31m---------------------------------------------------------------------------\u001b[0m",
      "\u001b[1;31mValueError\u001b[0m                                Traceback (most recent call last)",
      "\u001b[1;32m~\\AppData\\Local\\Temp\\ipykernel_10120\\185092660.py\u001b[0m in \u001b[0;36m<module>\u001b[1;34m\u001b[0m\n\u001b[0;32m      1\u001b[0m \u001b[1;31m#Q8\u001b[0m\u001b[1;33m\u001b[0m\u001b[1;33m\u001b[0m\u001b[0m\n\u001b[1;32m----> 2\u001b[1;33m \u001b[0mnum\u001b[0m \u001b[1;33m=\u001b[0m \u001b[0mfloat\u001b[0m\u001b[1;33m(\u001b[0m\u001b[0minput\u001b[0m\u001b[1;33m(\u001b[0m\u001b[1;34m\"Enter number to get table: \"\u001b[0m\u001b[1;33m)\u001b[0m\u001b[1;33m)\u001b[0m\u001b[1;33m\u001b[0m\u001b[1;33m\u001b[0m\u001b[0m\n\u001b[0m\u001b[0;32m      3\u001b[0m \u001b[1;33m\u001b[0m\u001b[0m\n\u001b[0;32m      4\u001b[0m \u001b[1;32mif\u001b[0m \u001b[0mnum\u001b[0m \u001b[1;33m>=\u001b[0m \u001b[1;36m0\u001b[0m\u001b[1;33m:\u001b[0m\u001b[1;33m\u001b[0m\u001b[1;33m\u001b[0m\u001b[0m\n\u001b[0;32m      5\u001b[0m     \u001b[1;32mfor\u001b[0m \u001b[0mi\u001b[0m \u001b[1;32min\u001b[0m \u001b[0mrange\u001b[0m\u001b[1;33m(\u001b[0m\u001b[1;36m13\u001b[0m\u001b[1;33m)\u001b[0m\u001b[1;33m:\u001b[0m\u001b[1;33m\u001b[0m\u001b[1;33m\u001b[0m\u001b[0m\n",
      "\u001b[1;31mValueError\u001b[0m: could not convert string to float: ''"
     ]
    }
   ],
   "source": [
    "#Q8\n",
    "num = float(input(\"Enter number to get table: \"))\n",
    "\n",
    "if num >= 0:\n",
    "    for i in range(13):\n",
    "        print(f\"{num} * {i} = {num*i}\")\n",
    "        \n",
    "else:        \n",
    "    for i in range(12, -1, -1):\n",
    "        print(f\"{num} * {i} = {num*i}\")\n"
   ]
  }
 ],
 "metadata": {
  "kernelspec": {
   "display_name": "base",
   "language": "python",
   "name": "python3"
  },
  "language_info": {
   "codemirror_mode": {
    "name": "ipython",
    "version": 3
   },
   "file_extension": ".py",
   "mimetype": "text/x-python",
   "name": "python",
   "nbconvert_exporter": "python",
   "pygments_lexer": "ipython3",
   "version": "3.9.13"
  }
 },
 "nbformat": 4,
 "nbformat_minor": 2
}
