{
 "cells": [
  {
   "cell_type": "code",
   "execution_count": 6,
   "metadata": {},
   "outputs": [
    {
     "name": "stdout",
     "output_type": "stream",
     "text": [
      "Hello World\n"
     ]
    }
   ],
   "source": [
    "# Q1\n",
    "print(\"Hello World\")"
   ]
  },
  {
   "cell_type": "code",
   "execution_count": 7,
   "metadata": {},
   "outputs": [
    {
     "name": "stdout",
     "output_type": "stream",
     "text": [
      "Hello, Pranab!\n"
     ]
    }
   ],
   "source": [
    "# Q2\n",
    "name = \"Pranab\"\n",
    "print(f\"Hello, {name}!\")"
   ]
  },
  {
   "cell_type": "code",
   "execution_count": 8,
   "metadata": {},
   "outputs": [
    {
     "name": "stdout",
     "output_type": "stream",
     "text": [
      "38.4 in celsius is equal to 101.12 in fahrenheit\n"
     ]
    }
   ],
   "source": [
    "# Q3\n",
    "celc_temp = 38.4\n",
    "fahr_temp = celc_temp * (9/5) + 32\n",
    "\n",
    "print(f\"{celc_temp} in celsius is equal to {fahr_temp} in fahrenheit\")"
   ]
  },
  {
   "cell_type": "code",
   "execution_count": 9,
   "metadata": {},
   "outputs": [
    {
     "name": "stdout",
     "output_type": "stream",
     "text": [
      "Boycott had an average of 56.83802816901409 runs in 609 matches\n"
     ]
    }
   ],
   "source": [
    "# Q4\n",
    "matches = 609\n",
    "batted = 1014\n",
    "not_out = 162\n",
    "runs = 48426\n",
    "\n",
    "innings = batted - not_out\n",
    "average = runs / innings\n",
    "\n",
    "print(f\"Boycott had an average of {average} runs in {matches} matches\")"
   ]
  },
  {
   "cell_type": "code",
   "execution_count": 10,
   "metadata": {},
   "outputs": [
    {
     "name": "stdout",
     "output_type": "stream",
     "text": [
      "There will be 11 groups with 36 leftover students.\n"
     ]
    }
   ],
   "source": [
    "# Q5\n",
    "group_size = 24\n",
    "\n",
    "students_1 = 113\n",
    "students_2 = 175\n",
    "students_3 = 12\n",
    "\n",
    "group_1 = students_1 // group_size\n",
    "group_2 = students_2 // group_size\n",
    "group_3 = students_3 // group_size\n",
    "total_groups = group_1 + group_2 + group_3\n",
    "\n",
    "remaining_1 = students_1 % group_size\n",
    "remaining_2 = students_2 % group_size\n",
    "remaining_3 = students_3 % group_size\n",
    "leftover = remaining_1 + remaining_2 + remaining_3\n",
    "\n",
    "print(f\"There will be {total_groups} groups with {leftover} leftover students.\")\n",
    "\n"
   ]
  }
 ],
 "metadata": {
  "kernelspec": {
   "display_name": "base",
   "language": "python",
   "name": "python3"
  },
  "language_info": {
   "codemirror_mode": {
    "name": "ipython",
    "version": 3
   },
   "file_extension": ".py",
   "mimetype": "text/x-python",
   "name": "python",
   "nbconvert_exporter": "python",
   "pygments_lexer": "ipython3",
   "version": "3.9.13"
  }
 },
 "nbformat": 4,
 "nbformat_minor": 2
}
