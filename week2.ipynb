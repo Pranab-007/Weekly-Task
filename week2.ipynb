{
 "cells": [
  {
   "cell_type": "code",
   "execution_count": 1,
   "metadata": {},
   "outputs": [
    {
     "name": "stdout",
     "output_type": "stream",
     "text": [
      "Hello, . Good to meet you!\n"
     ]
    }
   ],
   "source": [
    "# Q1\n",
    "name = input(\"Hello, what is your name? \")\n",
    "name = name.title()\n",
    "print(f\"Hello, {name}. Good to meet you!\")"
   ]
  },
  {
   "cell_type": "code",
   "execution_count": 2,
   "metadata": {},
   "outputs": [
    {
     "ename": "ValueError",
     "evalue": "could not convert string to float: ''",
     "output_type": "error",
     "traceback": [
      "\u001b[1;31m---------------------------------------------------------------------------\u001b[0m",
      "\u001b[1;31mValueError\u001b[0m                                Traceback (most recent call last)",
      "\u001b[1;32m~\\AppData\\Local\\Temp\\ipykernel_22828\\3585869328.py\u001b[0m in \u001b[0;36m<module>\u001b[1;34m\u001b[0m\n\u001b[1;32m----> 1\u001b[1;33m \u001b[0mcels\u001b[0m \u001b[1;33m=\u001b[0m \u001b[0mfloat\u001b[0m\u001b[1;33m(\u001b[0m\u001b[0minput\u001b[0m\u001b[1;33m(\u001b[0m\u001b[1;34m\"Enter a temperature in Celsius: \"\u001b[0m\u001b[1;33m)\u001b[0m\u001b[1;33m)\u001b[0m\u001b[1;33m\u001b[0m\u001b[1;33m\u001b[0m\u001b[0m\n\u001b[0m\u001b[0;32m      2\u001b[0m \u001b[0mfahr\u001b[0m \u001b[1;33m=\u001b[0m \u001b[0mcels\u001b[0m \u001b[1;33m*\u001b[0m \u001b[1;33m(\u001b[0m\u001b[1;36m9\u001b[0m\u001b[1;33m/\u001b[0m\u001b[1;36m5\u001b[0m\u001b[1;33m)\u001b[0m \u001b[1;33m+\u001b[0m \u001b[1;36m32\u001b[0m\u001b[1;33m\u001b[0m\u001b[1;33m\u001b[0m\u001b[0m\n\u001b[0;32m      3\u001b[0m \u001b[0mprint\u001b[0m\u001b[1;33m(\u001b[0m\u001b[1;34mf\"{cels}C is equivalent to {fahr}F\"\u001b[0m\u001b[1;33m)\u001b[0m\u001b[1;33m\u001b[0m\u001b[1;33m\u001b[0m\u001b[0m\n",
      "\u001b[1;31mValueError\u001b[0m: could not convert string to float: ''"
     ]
    }
   ],
   "source": [
    "cels = float(input(\"Enter a temperature in Celsius: \"))\n",
    "fahr = cels * (9/5) + 32\n",
    "print(f\"{cels}C is equivalent to {fahr}F\")\n"
   ]
  },
  {
   "cell_type": "code",
   "execution_count": null,
   "metadata": {},
   "outputs": [],
   "source": [
    "# Q3\n",
    "try:\n",
    "    students = int(input(\"How many students? \"))\n",
    "    size = int(input(\"Required group size? \"))\n",
    "    \n",
    "    if students < 0 or size < 0:\n",
    "        raise Exception(\"No negative numbers\")\n",
    "    \n",
    "    groups = students // size\n",
    "    rem = students % size\n",
    "    \n",
    "    if groups == 1 and rem != 1:\n",
    "        print(f\"There will be {groups} group with {rem} students left over.\")\n",
    "        \n",
    "    elif groups != 1 and rem == 1:    \n",
    "        print(f\"There will be {groups} groups with {rem} student left over.\")\n",
    "\n",
    "    elif groups == 1 and rem == 1:\n",
    "            print(f\"There will be {groups} group with {rem} student left over.\")\n",
    "\n",
    "    else:\n",
    "        print(f\"There will be {groups} groups with {rem} students left over.\")\n",
    "\n",
    "except:\n",
    "    print(\"Integers only\")"
   ]
  },
  {
   "cell_type": "code",
   "execution_count": null,
   "metadata": {},
   "outputs": [],
   "source": [
    "# Q4\n",
    "pups = int(input(\"Number of pupils? \"))\n",
    "sweets = int(input(\"How many sweets? \"))\n",
    "\n",
    "get_sweet = pups // sweets\n",
    "rem_sweets = pups % sweets\n",
    "\n",
    "print(f\"Each student will get {get_sweet} sweets!\")"
   ]
  }
 ],
 "metadata": {
  "kernelspec": {
   "display_name": "base",
   "language": "python",
   "name": "python3"
  },
  "language_info": {
   "codemirror_mode": {
    "name": "ipython",
    "version": 3
   },
   "file_extension": ".py",
   "mimetype": "text/x-python",
   "name": "python",
   "nbconvert_exporter": "python",
   "pygments_lexer": "ipython3",
   "version": "3.9.13"
  }
 },
 "nbformat": 4,
 "nbformat_minor": 2
}
