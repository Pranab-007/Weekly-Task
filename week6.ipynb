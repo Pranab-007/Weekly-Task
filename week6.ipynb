{
 "cells": [
  {
   "cell_type": "code",
   "execution_count": 1,
   "metadata": {},
   "outputs": [
    {
     "name": "stdout",
     "output_type": "stream",
     "text": [
      "11\n"
     ]
    }
   ],
   "source": [
    "#q1\n",
    "def decimal(num):\n",
    "    number = ''\n",
    "    while num > 0:\n",
    "        number = str(num % 2) + number\n",
    "        num = num // 2\n",
    "    print(number)\n",
    "    \n",
    "if __name__ == \"__main__\":\n",
    "    num = int(input(\"Enter a positive integer: \"))\n",
    "    if num < 0:\n",
    "        print(\"Please enter a positive integer.\")\n",
    "    else:\n",
    "        decimal(num)"
   ]
  },
  {
   "cell_type": "code",
   "execution_count": 2,
   "metadata": {},
   "outputs": [
    {
     "name": "stdout",
     "output_type": "stream",
     "text": [
      "The factors of 3 are: [1, 3]\n"
     ]
    }
   ],
   "source": [
    "#Q2\n",
    "\n",
    "def get_factors(num):\n",
    "    factors = []\n",
    "    for i in range(1, abs(num) + 1):\n",
    "        if num % i == 0:\n",
    "            factors.append(i)\n",
    "    return factors\n",
    "\n",
    "if __name__ == \"__main__\":\n",
    "    try:\n",
    "        num = int(input(\"Enter an integer: \"))\n",
    "        result = get_factors(num)\n",
    "        print(f\"The factors of {num} are: {result}\")\n",
    "    except ValueError:\n",
    "        print(\"Invalid input\")"
   ]
  },
  {
   "cell_type": "code",
   "execution_count": 3,
   "metadata": {},
   "outputs": [
    {
     "name": "stdout",
     "output_type": "stream",
     "text": [
      "The 3 is prime number.\n"
     ]
    }
   ],
   "source": [
    "#Q3\n",
    "\n",
    "def is_prime(number):\n",
    "    \"\"\"Determine whether the input number is prime or not.\"\"\"\n",
    "    for i in range(2, number):\n",
    "        if number % i == 0:\n",
    "            print(f\"The {number} is not prime number.\")\n",
    "            break\n",
    "    else:\n",
    "        print(f\"The {number} is prime number.\")\n",
    "\n",
    "\n",
    "if __name__ == \"__main__\":\n",
    "    try:\n",
    "        number = int(input(\"Enter a number: \"))\n",
    "        if number < 2:\n",
    "            print(f\"{number} is not a prime number\")\n",
    "\n",
    "        else:\n",
    "            is_prime(number)\n",
    "\n",
    "    except ValueError:\n",
    "        print(\"Invalid input\")"
   ]
  },
  {
   "cell_type": "code",
   "execution_count": 4,
   "metadata": {},
   "outputs": [
    {
     "name": "stdout",
     "output_type": "stream",
     "text": [
      "hi\n"
     ]
    }
   ],
   "source": [
    "#Q4\n",
    "\n",
    "def encrypt_message(msg):\n",
    "    msg = \"\".join(reversed(msg.split()))\n",
    "    print (msg)\n",
    "\n",
    "if __name__ == \"__main__\":\n",
    "    try:\n",
    "        msg = input(\"Enter a message: \")\n",
    "        encrypted_msg = encrypt_message(msg)\n",
    "\n",
    "    except ValueError:\n",
    "        print(\"Invalid value.\")"
   ]
  },
  {
   "cell_type": "code",
   "execution_count": 5,
   "metadata": {},
   "outputs": [
    {
     "name": "stdout",
     "output_type": "stream",
     "text": [
      "hxxxxxxxxxxxxxxxexxxxxxlxxxxxxxxxxxxxxxxxxxlxxxxxxoxxxxxxxxxxxxxxxxxxx\n"
     ]
    }
   ],
   "source": [
    "#Q5\n",
    "import random\n",
    "def hidden(word):\n",
    "    sum = ''\n",
    "    for i in word:\n",
    "        c = random.randint(2,21)\n",
    "        if  i != ' ':\n",
    "            sum = sum + i + 'x' * c\n",
    "        else:\n",
    "            sum += i\n",
    "    \n",
    "    return sum\n",
    "\n",
    "message = input(\"Enter a message: \")\n",
    "print(hidden(message))"
   ]
  },
  {
   "cell_type": "code",
   "execution_count": 6,
   "metadata": {},
   "outputs": [
    {
     "name": "stdout",
     "output_type": "stream",
     "text": [
      "Encoded message:\n",
      "\n"
     ]
    }
   ],
   "source": [
    "#Q6\n",
    "message = \"sxyexynxydxy cxyhxyexyexysxye\"\n",
    "print(\"Encoded message:\")\n",
    "print()"
   ]
  }
 ],
 "metadata": {
  "kernelspec": {
   "display_name": "Python 3",
   "language": "python",
   "name": "python3"
  },
  "language_info": {
   "name": "python",
   "version": "3.9.13"
  }
 },
 "nbformat": 4,
 "nbformat_minor": 2
}
